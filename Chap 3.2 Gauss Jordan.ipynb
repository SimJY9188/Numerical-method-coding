{
 "cells": [
  {
   "cell_type": "code",
   "execution_count": 1,
   "metadata": {},
   "outputs": [],
   "source": [
    "import math\n",
    "import sympy as sym\n",
    "import numpy as np\n",
    "import sys"
   ]
  },
  {
   "cell_type": "code",
   "execution_count": 2,
   "metadata": {},
   "outputs": [
    {
     "name": "stdout",
     "output_type": "stream",
     "text": [
      "[[ 1  1  1  3]\n",
      " [ 2  3  7  0]\n",
      " [ 1  3 -2 17]]\n"
     ]
    }
   ],
   "source": [
    "# insert the matrix as array\n",
    "A = np.array( [ [1, 1, 1, 3],\n",
    "                [2, 3, 7, 0],\n",
    "                [1, 3, -2, 17] ] )\n",
    "\n",
    "print(A)"
   ]
  },
  {
   "cell_type": "code",
   "execution_count": 3,
   "metadata": {},
   "outputs": [
    {
     "name": "stdout",
     "output_type": "stream",
     "text": [
      "Step 1\n",
      "[[ 1  1  1  3]\n",
      " [ 2  3  7  0]\n",
      " [ 1  3 -2 17]]\n",
      "\n",
      "\n",
      "Step 2\n",
      "[[ 1  1  1  3]\n",
      " [ 0  1  5 -6]\n",
      " [ 0  2 -3 14]]\n",
      "\n",
      "\n",
      "Step 3\n",
      "[[ 1  1  1  3]\n",
      " [ 0  1  5 -6]\n",
      " [ 0  2 -3 14]]\n",
      "\n",
      "\n",
      "Step 4\n",
      "[[  1   0  -4   9]\n",
      " [  0   1   5  -6]\n",
      " [  0   0 -13  26]]\n",
      "\n",
      "\n",
      "Step 5\n",
      "[[ 1  0 -4  9]\n",
      " [ 0  1  5 -6]\n",
      " [ 0  0  1 -2]]\n",
      "\n",
      "\n",
      "Step 6\n",
      "[[ 1  0  0  1]\n",
      " [ 0  1  0  4]\n",
      " [ 0  0  1 -2]]\n",
      "\n",
      "\n"
     ]
    }
   ],
   "source": [
    "d = 1\n",
    "d2 = 2\n",
    "i = 0\n",
    "j = 0\n",
    "\n",
    "while i < A.shape[0]:\n",
    "    if A[i][i] == 0.0:\n",
    "        sys.exit('Divide by zero detected!')\n",
    "\n",
    "    # divide the entire row with the diagonal    \n",
    "    A[i] = A[i]/A[i,i]\n",
    "    print(\"Step\", d)\n",
    "    d = d + 2\n",
    "    A[A == (-0)] = 0\n",
    "    print(A)\n",
    "    print(\"\\n\")\n",
    "    for j in range(A.shape[0]):\n",
    "        if j == i:\n",
    "            continue\n",
    "        A[j] = A[j] - A[j, i] * A[i]\n",
    "        #j = j + 1\n",
    "    print(\"Step\", d2)\n",
    "    d2 = d2 + 2\n",
    "    print(A)\n",
    "    print(\"\\n\")\n",
    "    i = i + 1"
   ]
  },
  {
   "cell_type": "code",
   "execution_count": 4,
   "metadata": {},
   "outputs": [
    {
     "name": "stdout",
     "output_type": "stream",
     "text": [
      "x[1] = 1\n",
      "x[2] = 4\n",
      "x[3] = -2\n"
     ]
    }
   ],
   "source": [
    "k = 0\n",
    "\n",
    "while k < A.shape[0]:\n",
    "    print(\"x[{}] = {}\".format((k+1), A[k, -1]))\n",
    "    k = k + 1"
   ]
  },
  {
   "cell_type": "code",
   "execution_count": null,
   "metadata": {},
   "outputs": [],
   "source": []
  }
 ],
 "metadata": {
  "kernelspec": {
   "display_name": "Python 3",
   "language": "python",
   "name": "python3"
  },
  "language_info": {
   "codemirror_mode": {
    "name": "ipython",
    "version": 3
   },
   "file_extension": ".py",
   "mimetype": "text/x-python",
   "name": "python",
   "nbconvert_exporter": "python",
   "pygments_lexer": "ipython3",
   "version": "3.8.3"
  }
 },
 "nbformat": 4,
 "nbformat_minor": 2
}
