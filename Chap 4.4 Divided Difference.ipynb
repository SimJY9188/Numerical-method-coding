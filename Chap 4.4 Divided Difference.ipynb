{
 "cells": [
  {
   "cell_type": "code",
   "execution_count": 1,
   "metadata": {},
   "outputs": [],
   "source": [
    "import numpy as np\n",
    "import sympy as sym"
   ]
  },
  {
   "cell_type": "code",
   "execution_count": 2,
   "metadata": {},
   "outputs": [
    {
     "name": "stdout",
     "output_type": "stream",
     "text": [
      "[[-5.  0.  0.  0.]\n",
      " [-1.  3.  0.  0.]\n",
      " [ 5. -3.  0.  0.]]\n"
     ]
    }
   ],
   "source": [
    "#num of column must be more than num of row\n",
    "#column = row + 1\n",
    "\n",
    "y = np.array( [ [-5., 0, 0, 0], \n",
    "                [-1, 3, 0, 0],\n",
    "                [5, -3, 0, 0] ])\n",
    "k = 1\n",
    "\n",
    "print(y)"
   ]
  },
  {
   "cell_type": "code",
   "execution_count": 3,
   "metadata": {},
   "outputs": [
    {
     "name": "stdout",
     "output_type": "stream",
     "text": [
      "[[-5.     0.     0.75  -0.175]\n",
      " [-1.     3.    -1.     0.   ]\n",
      " [ 5.    -3.     0.     0.   ]]\n"
     ]
    }
   ],
   "source": [
    "for j in range(y.shape[0] - 1):\n",
    "    for i in range(y.shape[0] - 1):\n",
    "        try:\n",
    "            y[i][j+2] = ((y[i+1][j+1] - y[i][j+1]) / (y[i+k][0] - y[i][0]))\n",
    "        except IndexError:\n",
    "            continue\n",
    "    k = k + 1\n",
    "        \n",
    "print(y)"
   ]
  },
  {
   "cell_type": "code",
   "execution_count": 4,
   "metadata": {},
   "outputs": [
    {
     "name": "stdout",
     "output_type": "stream",
     "text": [
      "['0.0', '0.75*x + 3.75', '(-0.175*x - 0.875)*(x + 1.0)']\n"
     ]
    },
    {
     "data": {
      "text/latex": [
       "$\\displaystyle 0.75 x + \\left(- 0.175 x - 0.875\\right) \\left(x + 1.0\\right) + 3.75 = 0$"
      ],
      "text/plain": [
       "Eq(0.75*x + (-0.175*x - 0.875)*(x + 1.0) + 3.75, 0)"
      ]
     },
     "execution_count": 4,
     "metadata": {},
     "output_type": "execute_result"
    }
   ],
   "source": [
    "x = sym.Symbol('x')\n",
    "\n",
    "equ = []\n",
    "equ.append(str(y[0][1]))\n",
    "\n",
    "for n in range(y.shape[0]):\n",
    "    try:\n",
    "        equ1 = y[0][n+2]*(x-y[0][0])\n",
    "        if n >= 1:\n",
    "            for i in range(n):\n",
    "                equ1 = equ1*(x-y[i+1][0])\n",
    "        equ.append(str(equ1))\n",
    "    except IndexError:\n",
    "        continue\n",
    "    \n",
    "print(equ)\n",
    "equ = \"+\".join(equ)\n",
    "fx = eval(equ)\n",
    "sym.Eq(fx, 0)"
   ]
  },
  {
   "cell_type": "code",
   "execution_count": 5,
   "metadata": {},
   "outputs": [
    {
     "name": "stdout",
     "output_type": "stream",
     "text": [
      "2.03125000000000\n"
     ]
    }
   ],
   "source": [
    "# when x = a, get the value\n",
    "a = 1.5\n",
    "\n",
    "ans = fx.subs(x, a)\n",
    "print(ans)"
   ]
  },
  {
   "cell_type": "code",
   "execution_count": null,
   "metadata": {},
   "outputs": [],
   "source": []
  }
 ],
 "metadata": {
  "kernelspec": {
   "display_name": "Python 3",
   "language": "python",
   "name": "python3"
  },
  "language_info": {
   "codemirror_mode": {
    "name": "ipython",
    "version": 3
   },
   "file_extension": ".py",
   "mimetype": "text/x-python",
   "name": "python",
   "nbconvert_exporter": "python",
   "pygments_lexer": "ipython3",
   "version": "3.8.3"
  }
 },
 "nbformat": 4,
 "nbformat_minor": 2
}
